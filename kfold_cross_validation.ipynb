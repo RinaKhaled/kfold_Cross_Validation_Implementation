{
 "cells": [
  {
   "cell_type": "code",
   "execution_count": 675,
   "metadata": {
    "id": "gUPlff7gmnLm"
   },
   "outputs": [],
   "source": [
    "import sys\n",
    "import numpy as np\n",
    "from numpy import random\n",
    "import matplotlib.pyplot as plt\n",
    "from sklearn.utils import shuffle\n",
    "from keras.datasets import mnist"
   ]
  },
  {
   "cell_type": "code",
   "execution_count": 676,
   "metadata": {
    "id": "jE_aUCukSOP9"
   },
   "outputs": [],
   "source": [
    "# Importing Data\n",
    "\n",
    "(x_train, y_train), (x_test, y_test) = mnist.load_data()\n",
    "\n",
    "x_train = x_train.astype('float32')\n",
    "y_train = y_train.astype('int32')\n",
    "\n",
    "x_train = x_train.reshape(x_train.shape[0], -1) #Reshaping to 2D\n",
    "\n",
    "# Filter to only those have labels = 0 or 1 \n",
    "x_train = np.concatenate([x_train[y_train == 0], x_train[y_train == 1]])\n",
    "y_train = np.concatenate([y_train[y_train == 0], y_train[y_train == 1]])\n",
    "\n",
    "#------------------------------------------------------------------------\n",
    "\n",
    "x_test = x_test.astype('float32')\n",
    "y_test = y_test.astype('int32')\n",
    "\n",
    "x_test = x_test.reshape(x_test.shape[0], -1) #Reshaping to 2D\n",
    "\n",
    "# Filter to only those have labels = 0 or 1\n",
    "x_test = np.concatenate([x_test[y_test == 0], x_test[y_test == 1]])\n",
    "y_test = np.concatenate([y_test[y_test == 0], y_test[y_test == 1]])"
   ]
  },
  {
   "cell_type": "code",
   "execution_count": 678,
   "metadata": {
    "id": "v9X97r40V12r"
   },
   "outputs": [],
   "source": [
    "# Shuffling Data\n",
    "x_train, y_train = shuffle(x_train, y_train)"
   ]
  },
  {
   "cell_type": "code",
   "execution_count": 679,
   "metadata": {
    "id": "-lbclXhCWUbD"
   },
   "outputs": [],
   "source": [
    "# Normalizing\n",
    "x_train = (x_train - x_train.mean()) / x_train.std()\n",
    "x_test = (x_test - x_test.mean()) / x_test.std()"
   ]
  },
  {
   "cell_type": "code",
   "execution_count": 689,
   "metadata": {
    "id": "QbwWi_N_m-V6"
   },
   "outputs": [],
   "source": [
    "def Logistic_Regression(x_train, y_train, learning_Rate = 0.0001, iterations = 1000):\n",
    "    \n",
    "    tolerance = 0.0001\n",
    "    error = np.zeros(iterations)\n",
    "\n",
    "    w = np.random.rand(x_train.shape[1]) \n",
    "    b = np.random.rand(1)\n",
    "\n",
    "    for i in range(iterations):\n",
    "\n",
    "        z = np.dot(x_train, w) + b #samples * features * features * 1 = samples * 1\n",
    "        phiz = 1 / (1 + np.exp(-z))\n",
    "        \n",
    "        error[i] = np.mean(-y_train * np.log(phiz + sys.float_info.min) - (1 - y_train) * np.log(1 - phiz + sys.float_info.min))\n",
    "        \n",
    "        w = w - (learning_Rate * np.dot((phiz - y_train), x_train)) / x_train.shape[0]\n",
    "        b = b - (learning_Rate * np.mean(phiz - y_train))\n",
    "\n",
    "        if error[i] < tolerance:\n",
    "            break\n",
    "    \n",
    "    # Error across iterations\n",
    "    plt.plot(error)\n",
    "    plt.xlabel(\"Iterations\")\n",
    "    plt.ylabel(\"Error\")\n",
    "    plt.show()\n",
    "\n",
    "    return w, b"
   ]
  },
  {
   "cell_type": "code",
   "execution_count": 682,
   "metadata": {
    "id": "_9DKy6tZoFRA"
   },
   "outputs": [],
   "source": [
    "learning_rates=[0.00001,0.0001,0.001,0.01,0.05]\n",
    "lr_accuracies=[]"
   ]
  },
  {
   "cell_type": "code",
   "execution_count": 683,
   "metadata": {
    "id": "MiEcQaNcnMXm"
   },
   "outputs": [],
   "source": [
    "def kfold(X, y, k, learning_rate):\n",
    "\n",
    "    kfoldAccuracies=np.zeros(k)\n",
    "    n_samples = X.shape[0]\n",
    "    fold_size = n_samples // k\n",
    "\n",
    "    # Shuffle the data\n",
    "    X,y=shuffle(X,y)\n",
    "\n",
    "    for i in range(k):\n",
    "      X_validation_sample=X[i*fold_size:(i+1)*fold_size]\n",
    "      y_validation_sample=y[i*fold_size:(i+1)*fold_size]\n",
    "\n",
    "      if(i==0):\n",
    "        XcrossTrain= X[fold_size:]\n",
    "        ycrossTrain= y[fold_size:]\n",
    "\n",
    "      elif(i==k-1): \n",
    "        XcrossTrain= X[:(i)*fold_size]\n",
    "        ycrossTrain= y[:(i)*fold_size]\n",
    "\n",
    "      else: \n",
    "        XcrossTrain= np.concatenate((X[:(i)*fold_size],X[(i+1)*fold_size:]))\n",
    "        ycrossTrain= np.concatenate((y[:(i)*fold_size],y[(i+1)*fold_size:]))\n",
    "      \n",
    "      w, b = Logistic_Regression(XcrossTrain,ycrossTrain,learning_Rate=learning_rate)\n",
    "      z = np.dot(X_validation_sample, w) + b\n",
    "      phiz = 1 / (1 + np.exp(-z))\n",
    "      y_pred = np.where(phiz < 0.5, 0, 1)\n",
    "      kfoldAccuracies[i]= (np.mean(y_pred == y_validation_sample))*100\n",
    "    avg_acc=np.mean(kfoldAccuracies)\n",
    "    return avg_acc\n",
    "\n"
   ]
  },
  {
   "cell_type": "code",
   "execution_count": 684,
   "metadata": {
    "colab": {
     "base_uri": "https://localhost:8080/"
    },
    "id": "xfWAN7fgs7GE",
    "outputId": "f28429f8-8efb-45c6-ba01-24a73818ebe2"
   },
   "outputs": [
    {
     "name": "stdout",
     "output_type": "stream",
     "text": [
      "<class 'numpy.ndarray'>\n",
      "<class 'numpy.ndarray'>\n",
      "<class 'numpy.ndarray'>\n",
      "<class 'numpy.ndarray'>\n",
      "<class 'numpy.ndarray'>\n",
      "[7.631205673758866, 11.635933806146571, 77.84869976359339, 98.7706855791962, 99.80614657210404]\n"
     ]
    }
   ],
   "source": [
    "# Validation (10 Fold_Cross_Validation)\n",
    "for lr in learning_rates:\n",
    "  lr_accuracies.append(kfold(x_train,y_train,10,lr))\n",
    "print(lr_accuracies)\n"
   ]
  },
  {
   "cell_type": "code",
   "execution_count": 690,
   "metadata": {
    "colab": {
     "base_uri": "https://localhost:8080/",
     "height": 471
    },
    "id": "87jvxWNMnBJn",
    "outputId": "338c2f3c-ad50-4d83-ccc7-f19bd2e09135"
   },
   "outputs": [
    {
     "data": {
      "image/png": "[encoded data removed]",
      "text/plain": [
       "<Figure size 640x480 with 1 Axes>"
      ]
     },
     "metadata": {},
     "output_type": "display_data"
    },
    {
     "name": "stdout",
     "output_type": "stream",
     "text": [
      "Accuracy: 99.81087470449172%\n"
     ]
    }
   ],
   "source": [
    "# Testing\n",
    "w, b = Logistic_Regression(x_train, y_train, learning_Rate = 0.05, iterations = 1000)\n",
    "z = np.dot(x_test, w) + b\n",
    "phiz = 1 / (1 + np.exp(-z))\n",
    "y_pred = np.where(phiz < 0.5, 0, 1)\n",
    "\n",
    "# Calculating accuracy\n",
    "accuracy = np.mean(y_pred == y_test)\n",
    "print(f\"Accuracy: {accuracy * 100}%\")"
   ]
  },
  {
   "cell_type": "code",
   "execution_count": 691,
   "metadata": {
    "colab": {
     "base_uri": "https://localhost:8080/",
     "height": 452
    },
    "id": "-q327GyOnJIH",
    "outputId": "74eaa7b5-8bcd-4db3-b774-8167ded4cc81"
   },
   "outputs": [
    {
     "data": {
      "image/png": "[encoded data removed]",
      "text/plain": [
       "<Figure size 640x480 with 1 Axes>"
      ]
     },
     "metadata": {},
     "output_type": "display_data"
    }
   ],
   "source": [
    "# select a sample image\n",
    "sample_index = 4\n",
    "# reshape the 1D array into a 2D array with 28 rows and 28 columns \n",
    "sample_img = np.reshape(x_train[sample_index], (28, 28))\n",
    "\n",
    "# plot the sample image\n",
    "plt.imshow(sample_img, cmap='gray')\n",
    "plt.title(f'Label: {y_train[sample_index]}')\n",
    "plt.show()"
   ]
  }
 ],
 "metadata": {
  "accelerator": "GPU",
  "colab": {
   "provenance": []
  },
  "gpuClass": "standard",
  "kernelspec": {
   "display_name": "Python 3 (ipykernel)",
   "language": "python",
   "name": "python3"
  },
  "language_info": {
   "codemirror_mode": {
    "name": "ipython",
    "version": 3
   },
   "file_extension": ".py",
   "mimetype": "text/x-python",
   "name": "python",
   "nbconvert_exporter": "python",
   "pygments_lexer": "ipython3",
   "version": "3.10.1"
  }
 },
 "nbformat": 4,
 "nbformat_minor": 1
}
